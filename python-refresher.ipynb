{
 "cells": [
  {
   "cell_type": "markdown",
   "metadata": {},
   "source": [
    "### String"
   ]
  },
  {
   "cell_type": "code",
   "execution_count": 44,
   "metadata": {},
   "outputs": [
    {
     "name": "stdout",
     "output_type": "stream",
     "text": [
      "Hello, Professor. Today is 2020/5/16\n",
      "Hello, Berlin. Today is 2019/5/16\n",
      "\n",
      "Hello, Berlin. Today is 2019/5/24\n"
     ]
    }
   ],
   "source": [
    "# string with template format\n",
    "name,date = 'Professor','2020/5/16'\n",
    "greeting = 'Hello, {}. Today is {}'.format(name,date)  # curly bracket\n",
    "print(greeting)\n",
    "\n",
    "name,date = 'Berlin','2019/5/16'\n",
    "greeting = 'Hello, {}. Today is {}'.format(name,date)\n",
    "print(greeting)\n",
    "\n",
    "date = '2019/5/24'\n",
    "print('\\n'+f'Hello, {name}. Today is {date}')"
   ]
  },
  {
   "cell_type": "code",
   "execution_count": null,
   "metadata": {},
   "outputs": [],
   "source": [
    "# input\n",
    "size_input = float(input(\"\"\"Please type in your house's size in square feet: \"\"\"))\n",
    "house_in_sqm = size_input/10.8\n",
    "print(\"\"\"Your house size is {} square meters\"\"\".format(str(house_in_sqm))"
   ]
  },
  {
   "cell_type": "markdown",
   "metadata": {},
   "source": [
    "### Data Structure"
   ]
  },
  {
   "cell_type": "code",
   "execution_count": 29,
   "metadata": {},
   "outputs": [],
   "source": [
    "# List, Set, Tuple all can add or remove element but only list can do indexing,e.g l[1]"
   ]
  },
  {
   "cell_type": "code",
   "execution_count": 27,
   "metadata": {},
   "outputs": [
    {
     "name": "stdout",
     "output_type": "stream",
     "text": [
      "{'CP3', 'LeBron', 'Kobe', 'Russ'}\n",
      "{'LeBron', 'Kobe', 'Russ'}\n"
     ]
    },
    {
     "ename": "TypeError",
     "evalue": "'set' object is not subscriptable",
     "output_type": "error",
     "traceback": [
      "\u001b[0;31m---------------------------------------------------------------------------\u001b[0m",
      "\u001b[0;31mTypeError\u001b[0m                                 Traceback (most recent call last)",
      "\u001b[0;32m<ipython-input-27-4675019a6abc>\u001b[0m in \u001b[0;36m<module>\u001b[0;34m\u001b[0m\n\u001b[1;32m      5\u001b[0m \u001b[0mt1\u001b[0m\u001b[0;34m.\u001b[0m\u001b[0mremove\u001b[0m\u001b[0;34m(\u001b[0m\u001b[0;34m'CP3'\u001b[0m\u001b[0;34m)\u001b[0m\u001b[0;34m\u001b[0m\u001b[0;34m\u001b[0m\u001b[0m\n\u001b[1;32m      6\u001b[0m \u001b[0mprint\u001b[0m\u001b[0;34m(\u001b[0m\u001b[0mt1\u001b[0m\u001b[0;34m)\u001b[0m\u001b[0;34m\u001b[0m\u001b[0;34m\u001b[0m\u001b[0m\n\u001b[0;32m----> 7\u001b[0;31m \u001b[0mt1\u001b[0m\u001b[0;34m[\u001b[0m\u001b[0;36m1\u001b[0m\u001b[0;34m]\u001b[0m\u001b[0;34m\u001b[0m\u001b[0;34m\u001b[0m\u001b[0m\n\u001b[0m",
      "\u001b[0;31mTypeError\u001b[0m: 'set' object is not subscriptable"
     ]
    }
   ],
   "source": [
    "# tuple\n",
    "t1 = {'Kobe','LeBron','Russ'}\n",
    "t1.add('CP3')\n",
    "print(t1)\n",
    "t1.remove('CP3')\n",
    "print(t1)\n",
    "t1[1]"
   ]
  },
  {
   "cell_type": "code",
   "execution_count": 30,
   "metadata": {},
   "outputs": [
    {
     "name": "stdout",
     "output_type": "stream",
     "text": [
      "{'R', 'Scala', 'C++', 'Python'}\n",
      "{'R', 'C++', 'Python'}\n"
     ]
    },
    {
     "ename": "TypeError",
     "evalue": "'set' object is not subscriptable",
     "output_type": "error",
     "traceback": [
      "\u001b[0;31m---------------------------------------------------------------------------\u001b[0m",
      "\u001b[0;31mTypeError\u001b[0m                                 Traceback (most recent call last)",
      "\u001b[0;32m<ipython-input-30-d98c7694f41a>\u001b[0m in \u001b[0;36m<module>\u001b[0;34m\u001b[0m\n\u001b[1;32m      5\u001b[0m \u001b[0mmy_programming_language\u001b[0m\u001b[0;34m.\u001b[0m\u001b[0mremove\u001b[0m\u001b[0;34m(\u001b[0m\u001b[0;34m'Scala'\u001b[0m\u001b[0;34m)\u001b[0m\u001b[0;34m\u001b[0m\u001b[0;34m\u001b[0m\u001b[0m\n\u001b[1;32m      6\u001b[0m \u001b[0mprint\u001b[0m\u001b[0;34m(\u001b[0m\u001b[0mmy_programming_language\u001b[0m\u001b[0;34m)\u001b[0m\u001b[0;34m\u001b[0m\u001b[0;34m\u001b[0m\u001b[0m\n\u001b[0;32m----> 7\u001b[0;31m \u001b[0mmy_programming_language\u001b[0m\u001b[0;34m[\u001b[0m\u001b[0;36m0\u001b[0m\u001b[0;34m]\u001b[0m\u001b[0;34m\u001b[0m\u001b[0;34m\u001b[0m\u001b[0m\n\u001b[0m",
      "\u001b[0;31mTypeError\u001b[0m: 'set' object is not subscriptable"
     ]
    }
   ],
   "source": [
    "# set- no order\n",
    "s1 = {'Python','C++','Scala'}\n",
    "s1.add('R')\n",
    "print(s1)\n",
    "s1.remove('Scala')\n",
    "print(s1)\n",
    "s1[0]"
   ]
  },
  {
   "cell_type": "code",
   "execution_count": 58,
   "metadata": {},
   "outputs": [
    {
     "name": "stdout",
     "output_type": "stream",
     "text": [
      "my unique skills are {'R'}. \n",
      "\n",
      "Our altogther skills are {'C#', 'R', 'Java', 'Python', 'C++'}. \n",
      "\n",
      "we both have {'C++', 'Python'}, these skills. \n",
      "\n"
     ]
    }
   ],
   "source": [
    "my_skill = {'Python','R', 'C++'}\n",
    "coworker_skill = {'Python','C#','Java','C++'}\n",
    "\n",
    "my_unique_skill = my_skill.difference(coworker_skill)\n",
    "print('my unique skills are {}. \\n'.format(my_unique_skill))  # this is my unique skill others don't have\n",
    "\n",
    "altogther_skill = my_skill.union(coworker_skill)\n",
    "print('Our altogther skills are {}. \\n'.format(altogther_skill))\n",
    "\n",
    "common_skill = my_skill.intersection(coworker_skill) # this is skill me and mycoworkers both have\n",
    "print('we both have {}, these skills. \\n'.format(common_skill))"
   ]
  },
  {
   "cell_type": "markdown",
   "metadata": {},
   "source": [
    "### Loop"
   ]
  },
  {
   "cell_type": "code",
   "execution_count": null,
   "metadata": {},
   "outputs": [],
   "source": [
    "# guess a number\n",
    "while True:\n",
    "    play_or_not = input('do you want play (Y/n): ').lower()\n",
    "\n",
    "    if play_or_not == 'n':\n",
    "        print('Sorry to see you leave.')\n",
    "        break\n",
    "\n",
    "    number = 24\n",
    "    user_guess = int(input('Guess a number: '))\n",
    "\n",
    "    if user_guess == number:\n",
    "        print('Correct!')\n",
    "    elif abs(user_guess-number) == 1:\n",
    "        print('Very close!')\n",
    "    else:\n",
    "        print('Wrong answer.')"
   ]
  },
  {
   "cell_type": "markdown",
   "metadata": {},
   "source": [
    "### Destruct Variables"
   ]
  },
  {
   "cell_type": "code",
   "execution_count": 49,
   "metadata": {},
   "outputs": [
    {
     "name": "stdout",
     "output_type": "stream",
     "text": [
      "1\n",
      "[2, 3, 4, 5]\n"
     ]
    }
   ],
   "source": [
    "head,*tail = [1,2,3,4,5]  # use  '*', get as many values as possible\n",
    "print(head)\n",
    "print(tail)"
   ]
  },
  {
   "cell_type": "markdown",
   "metadata": {},
   "source": [
    "### Function"
   ]
  },
  {
   "cell_type": "code",
   "execution_count": null,
   "metadata": {},
   "outputs": [],
   "source": [
    "players = ['Kobe','LeBron','Russ']\n",
    "\n",
    "\n",
    "def add_player():\n",
    "    player = input('Please type player: ')\n",
    "    players.append(player)  # could use global varialbe\n",
    "    print(players)\n",
    "\n",
    "add_player()"
   ]
  },
  {
   "cell_type": "code",
   "execution_count": 53,
   "metadata": {},
   "outputs": [
    {
     "name": "stdout",
     "output_type": "stream",
     "text": [
      "4\n"
     ]
    }
   ],
   "source": [
    "def add(x, y=3):  # default argument should be at last\n",
    "    return x+y\n",
    "\n",
    "print(add(x=1))"
   ]
  },
  {
   "cell_type": "markdown",
   "metadata": {},
   "source": [
    "### Lambda function"
   ]
  },
  {
   "cell_type": "code",
   "execution_count": 57,
   "metadata": {},
   "outputs": [
    {
     "name": "stdout",
     "output_type": "stream",
     "text": [
      "[0, 2, 2, 4, 4, 6, 6, 8, 8, 10]\n",
      "[0, 2, 2, 4, 4, 6, 6, 8, 8, 10]\n"
     ]
    }
   ],
   "source": [
    "# lambda function should be used at the same line when it def\n",
    "# most of the time, it doesn't have function name\n",
    "\n",
    "sequence = [x for x in range(10)]\n",
    "\n",
    "seq = [(lambda x: x if x%2 == 0 else x+1)(value) for value in sequence]  #lambda + list expression\n",
    "print(seq)\n",
    "\n",
    "# using map-similar to other programing language\n",
    "double = list(map(lambda x: x if x%2==0 else x+1,sequence))\n",
    "print(double)"
   ]
  },
  {
   "cell_type": "code",
   "execution_count": 56,
   "metadata": {
    "scrolled": true
   },
   "outputs": [
    {
     "name": "stdout",
     "output_type": "stream",
     "text": [
      "30\n"
     ]
    }
   ],
   "source": [
    "# name lambda function\n",
    "add = lambda x, y: x+y\n",
    "print(add(10, 20))\n",
    "\n",
    "# lambda function used in same line\n",
    "print((lambda x, y: x+y)(11, 13))"
   ]
  },
  {
   "cell_type": "markdown",
   "metadata": {},
   "source": [
    "### Using '*' Unpack"
   ]
  },
  {
   "cell_type": "code",
   "execution_count": 4,
   "metadata": {},
   "outputs": [
    {
     "name": "stdout",
     "output_type": "stream",
     "text": [
      "1 3 412\n",
      "(1, 3, 412)\n",
      "1236\n"
     ]
    }
   ],
   "source": [
    " # '*' collect position argument-:\n",
    "    #multiple elements as input - e.g.multply(1,3,6)\n",
    "def multiply(*args): \n",
    "    print(*args)  # make these elements into a tuple\n",
    "    print(args)\n",
    "    total = 1\n",
    "    for arg in args:\n",
    "        total *= arg\n",
    "    return total\n",
    "\n",
    "\n",
    "def apply_cal(*args, operator):\n",
    "    if operator == '*':\n",
    "        result = multiply(*args)  # 1,3,6\n",
    "    elif operator == '+':\n",
    "        result = sum(args)  # this is a tuple (1,3,6)\n",
    "    else:\n",
    "        'N/A'\n",
    "    return result\n",
    "\n",
    "print(apply_cal(1,3,412,operator='*'))"
   ]
  },
  {
   "cell_type": "code",
   "execution_count": 3,
   "metadata": {},
   "outputs": [
    {
     "name": "stdout",
     "output_type": "stream",
     "text": [
      "3 10 333\n",
      "13\n"
     ]
    }
   ],
   "source": [
    "def add(x,y,z):\n",
    "    return x+y\n",
    "\n",
    "nums = [3,10,333]\n",
    "\n",
    "print(*nums)  # unpack the list\n",
    "print(add(*nums))  "
   ]
  },
  {
   "cell_type": "code",
   "execution_count": 11,
   "metadata": {},
   "outputs": [
    {
     "name": "stdout",
     "output_type": "stream",
     "text": [
      "{'name': 'Kobe', 'no': 24}\n",
      "36\n"
     ]
    }
   ],
   "source": [
    "# keyword argument\n",
    "# **kwargs collect key word arguments-used for dict\n",
    "def named(**kwargs):\n",
    "    print(kwargs)\n",
    "named(name='Kobe',no=24)\n",
    "\n",
    "nums ={'x':12, 'y':24,'z':33}  # key should be the same as func arg\n",
    "# **nums- unpack a dict into keyword argument\n",
    "print(add(**nums))"
   ]
  },
  {
   "cell_type": "markdown",
   "metadata": {},
   "source": [
    "### positional argument/keyword argument"
   ]
  },
  {
   "cell_type": "code",
   "execution_count": 13,
   "metadata": {},
   "outputs": [
    {
     "name": "stdout",
     "output_type": "stream",
     "text": [
      "(1, 31, 2)\n",
      "{'name': 'kobe', 'no': 24}\n"
     ]
    }
   ],
   "source": [
    "# positional argument:1,3,4\n",
    "# keyword argument: 'name'='kobe','no'=24\n",
    "def both(*args,**kwargs):\n",
    "    print(args) # ()\n",
    "    print(kwargs)# {}\n",
    "both(1,31,2,name='kobe',no=24)"
   ]
  },
  {
   "cell_type": "markdown",
   "metadata": {},
   "source": [
    "### type hinting"
   ]
  },
  {
   "cell_type": "code",
   "execution_count": 3,
   "metadata": {},
   "outputs": [
    {
     "name": "stdout",
     "output_type": "stream",
     "text": [
      "63.0\n"
     ]
    }
   ],
   "source": [
    "# good practice for developers\n",
    "\n",
    "from typing import List\n",
    "\n",
    "\n",
    "def list_cal(seq: List) -> int:  # seq should be a list and return an int object\n",
    "    return sum(seq)/len(seq)\n",
    "\n",
    "\n",
    "print(list_cal([123, 3]))"
   ]
  },
  {
   "cell_type": "code",
   "execution_count": 4,
   "metadata": {},
   "outputs": [
    {
     "name": "stdout",
     "output_type": "stream",
     "text": [
      "1 books\n"
     ]
    }
   ],
   "source": [
    "class Book:\n",
    "    pass\n",
    "\n",
    "\n",
    "class BookShelf:\n",
    "    def __init__(self, books: List[Book]):\n",
    "        self.books = books\n",
    "\n",
    "    def __str__(self):\n",
    "        return f'{len(self.books)} books'\n",
    "\n",
    "book1 = Book()\n",
    "book2 = Book()\n",
    "print(BookShelf([book1]))"
   ]
  },
  {
   "cell_type": "markdown",
   "metadata": {},
   "source": [
    "### Absolute Import"
   ]
  },
  {
   "cell_type": "code",
   "execution_count": 9,
   "metadata": {},
   "outputs": [],
   "source": [
    "# notes: even import a function from another py file, all the contents will go through and run include printing"
   ]
  },
  {
   "cell_type": "code",
   "execution_count": null,
   "metadata": {},
   "outputs": [],
   "source": [
    "# file_a: \n",
    "print(__name__)\n",
    "\n",
    "def wty_plus_one(x):\n",
    "    return x+1\n",
    "\n",
    "\n",
    "\n",
    "# file_b: \n",
    "from file_a import wty_plus_one\n",
    "print(__name__)\n",
    "\n",
    "# result: \n",
    "'file_a'  # __name__\n",
    "__main__--# main file i am running!"
   ]
  },
  {
   "cell_type": "markdown",
   "metadata": {},
   "source": [
    "### Error Handling"
   ]
  },
  {
   "cell_type": "code",
   "execution_count": 16,
   "metadata": {},
   "outputs": [
    {
     "name": "stdout",
     "output_type": "stream",
     "text": [
      "Please confirm your input type.\n",
      "Done.\n"
     ]
    }
   ],
   "source": [
    "def wty_plus_one(x):\n",
    "    if isinstance(x, int or float):\n",
    "        raise TypeError('Your input is not a number.')\n",
    "    else:\n",
    "        return x+1\n",
    "\n",
    "try:\n",
    "    x = wty_plus_one('4')\n",
    "    \n",
    "except TypeError:\n",
    "    print('Please confirm your input type.')\n",
    "else:  # no error(above)\n",
    "    print(x)\n",
    "    \n",
    "finally:\n",
    "    print('Done.')\n",
    "\n",
    "# running routes    \n",
    "# try-except-finally\n",
    "# try-else-finally"
   ]
  },
  {
   "cell_type": "markdown",
   "metadata": {},
   "source": [
    "### Decorator"
   ]
  },
  {
   "cell_type": "code",
   "execution_count": null,
   "metadata": {},
   "outputs": [],
   "source": [
    "# a decorator takes in a function, adds some functionality and returns it"
   ]
  },
  {
   "cell_type": "code",
   "execution_count": 18,
   "metadata": {},
   "outputs": [],
   "source": [
    "# func: function itself--can be passed\n",
    "# func(): function call"
   ]
  },
  {
   "cell_type": "code",
   "execution_count": 22,
   "metadata": {},
   "outputs": [
    {
     "name": "stdout",
     "output_type": "stream",
     "text": [
      "i am ordinary\n",
      "-----\n",
      "i am prettier\n",
      "i am ordinary\n"
     ]
    }
   ],
   "source": [
    "# write a decorator\n",
    "# make_pretty transform ordinary to inner\n",
    "\n",
    "def make_pretty(func):\n",
    "    def inner():\n",
    "        print(\"i am prettier\")\n",
    "        return func()\n",
    "    return inner  # this is the function already has been refactored!!! will replace ordinary\n",
    "\n",
    "def ordinary():\n",
    "    print(\"i am ordinary\")\n",
    "\n",
    "    \n",
    "ordinary()\n",
    "print(\"-----\")\n",
    "pretty = make_pretty(ordinary)\n",
    "pretty()"
   ]
  },
  {
   "cell_type": "code",
   "execution_count": 23,
   "metadata": {},
   "outputs": [],
   "source": [
    "# let's see another way to write it"
   ]
  },
  {
   "cell_type": "code",
   "execution_count": 25,
   "metadata": {},
   "outputs": [
    {
     "name": "stdout",
     "output_type": "stream",
     "text": [
      "i am prettier\n",
      "i am ordinary\n"
     ]
    }
   ],
   "source": [
    "# write a decorator\n",
    "def make_pretty(func):\n",
    "    def inner():\n",
    "        print(\"i am prettier\")\n",
    "        return func()\n",
    "    return inner  # this is the function already be refactored!!! will replace ordinary\n",
    "\n",
    "@make_pretty\n",
    "def ordinary():\n",
    "    print(\"i am ordinary\")\n",
    "\n",
    "ordinary()"
   ]
  },
  {
   "cell_type": "code",
   "execution_count": 26,
   "metadata": {},
   "outputs": [
    {
     "name": "stdout",
     "output_type": "stream",
     "text": [
      "******************************\n",
      "%%%%%%%%%%%%%%%%%%%%%%%%%%%%%%\n",
      "Hello\n",
      "%%%%%%%%%%%%%%%%%%%%%%%%%%%%%%\n",
      "******************************\n"
     ]
    }
   ],
   "source": [
    "# link: https://www.programiz.com/python-programming/decorator\n",
    "# example of chaining decorator\n",
    "def star(func):\n",
    "    def inner(*args, **kwargs):\n",
    "        print(\"*\" * 30)\n",
    "        func(*args, **kwargs)\n",
    "        print(\"*\" * 30)\n",
    "    return inner\n",
    "\n",
    "def percent(func):\n",
    "    def inner(*args, **kwargs):\n",
    "        print(\"%\" * 30)\n",
    "        func(*args, **kwargs)\n",
    "        print(\"%\" * 30)\n",
    "    return inner\n",
    "\n",
    "@star\n",
    "@percent\n",
    "def printer(msg):\n",
    "    print(msg)\n",
    "printer(\"Hello\")\n",
    "\n",
    "#--\n",
    "def printer(msg):\n",
    "    print(msg)\n",
    "printer = star(percent(printer))"
   ]
  },
  {
   "cell_type": "code",
   "execution_count": 21,
   "metadata": {},
   "outputs": [
    {
     "name": "stdout",
     "output_type": "stream",
     "text": [
      "hey wty is not an admin\n"
     ]
    }
   ],
   "source": [
    "user = {'name': 'wty',\n",
    "        'access_level': 'admsin'}\n",
    "\n",
    "\n",
    "def make_secure(func):  # this is a decorator\n",
    "    def secure_function():\n",
    "        if user['access_level'] =='admin':\n",
    "            return func()\n",
    "        else:\n",
    "            return f'hey {user[\"name\"]} is not an admin'\n",
    "    return secure_function()\n",
    "\n",
    "\n",
    "# def make_secure2(func):\n",
    "#     if user['access_level'] == 'admin':\n",
    "#         return func()\n",
    "\n",
    "\n",
    "@make_secure  # using @ syntax \n",
    "def get_admin_password():\n",
    "    return 123\n",
    "\n",
    "\n",
    "# get_admin_password = make_secure(get_admin_password)  # notice: must replace the function you want to secure!\n",
    "print(get_admin_password)"
   ]
  }
 ],
 "metadata": {
  "kernelspec": {
   "display_name": "Python 3",
   "language": "python",
   "name": "python3"
  },
  "language_info": {
   "codemirror_mode": {
    "name": "ipython",
    "version": 3
   },
   "file_extension": ".py",
   "mimetype": "text/x-python",
   "name": "python",
   "nbconvert_exporter": "python",
   "pygments_lexer": "ipython3",
   "version": "3.7.4"
  }
 },
 "nbformat": 4,
 "nbformat_minor": 2
}
